{
 "cells": [
  {
   "cell_type": "code",
   "execution_count": 6,
   "id": "c49c8dd8-f091-437c-831c-c864078cd65c",
   "metadata": {},
   "outputs": [],
   "source": [
    "import os\n",
    "import pandas as pd\n",
    "\n",
    "data_dir = 'data'\n",
    "results_dir = 'results'\n",
    "metrics_file = 'metrics.csv'\n",
    "affiliations = [\n",
    "    os.path.join(results_dir, folder)\n",
    "    for folder in os.listdir(data_dir)\n",
    "    if not folder.startswith('.') and\n",
    "        os.path.isdir(os.path.join(data_dir, folder))\n",
    "]\n",
    "metrics_files = [\n",
    "    os.path.join(affiliation, metrics_file)\n",
    "    for affiliation in affiliations\n",
    "]"
   ]
  },
  {
   "cell_type": "code",
   "execution_count": 31,
   "id": "2c7ee006-4b10-43e6-a7d5-6e98d40b8fe7",
   "metadata": {},
   "outputs": [
    {
     "name": "stdout",
     "output_type": "stream",
     "text": [
      "   Publications  Total citations  Median citations  h-index  h-frac-index  \\\n",
      "0       14803.0        1750049.0            1808.0   3380.0         895.0   \n",
      "1       20923.0        1944338.0            1850.0   4042.0         966.0   \n",
      "2       24053.0        2383715.0            1133.5   3758.0         720.0   \n",
      "3       22484.0        2057916.0            1279.5   4005.0         913.0   \n",
      "4       22112.0        2641668.0            1929.0   4287.0         996.0   \n",
      "5       17415.0        1830982.0            1641.0   3883.0         770.0   \n",
      "6       27610.0        2297936.0            1247.0   4303.0         827.0   \n",
      "7       19163.0        1941185.0            1609.0   3963.0         938.0   \n",
      "\n",
      "   hm-index  h-leadership-index  % first author  % last author  \\\n",
      "0    1173.0              2660.0          915.08        1606.67   \n",
      "1    1397.0              3432.0          737.56        1485.26   \n",
      "2    1273.0              3189.0          717.63        1390.12   \n",
      "3    1717.0              3851.0         1073.04        1689.46   \n",
      "4    1640.0              3963.0          691.20        1624.64   \n",
      "5    1403.0              3439.0          700.06        1556.27   \n",
      "6    1615.0              3794.0          799.38        1679.57   \n",
      "7    1491.0              3770.0          761.43        1678.86   \n",
      "\n",
      "   % single author  Median author position  i10-index  \\\n",
      "0           407.72                   176.0    10057.0   \n",
      "1           240.06                   273.0    14402.0   \n",
      "2           156.60                   304.0    16152.0   \n",
      "3           302.13                   180.0    15348.0   \n",
      "4           134.73                   204.5    15997.0   \n",
      "5           186.59                   283.5    12741.0   \n",
      "6           316.60                   195.5    18472.0   \n",
      "7           171.89                   216.0    13607.0   \n",
      "\n",
      "   Average number of Authors  Median number of Authors  \n",
      "0                     1223.4                    1243.5  \n",
      "1                     1127.9                    1228.5  \n",
      "2                     1065.2                     904.0  \n",
      "3                      530.0                     284.0  \n",
      "4                      792.3                     468.0  \n",
      "5                      949.3                     916.5  \n",
      "6                      814.0                     620.5  \n",
      "7                      742.3                     549.5  \n"
     ]
    }
   ],
   "source": [
    "affiliation_dfs = [\n",
    "    pd.read_csv(file, usecols=lambda col: col != 'Name')\n",
    "    for file in metrics_files\n",
    "]\n",
    "sums = []\n",
    "\n",
    "for df in affiliation_dfs:\n",
    "    sums.append(df.sum())\n",
    "\n",
    "# Create a new DataFrame from the sums\n",
    "agg_df = pd.DataFrame(sums)\n",
    "\n",
    "print(agg_df)\n"
   ]
  },
  {
   "cell_type": "code",
   "execution_count": null,
   "id": "306dacea-c98c-4dd3-bca6-e1d40671d3fa",
   "metadata": {},
   "outputs": [],
   "source": []
  }
 ],
 "metadata": {
  "kernelspec": {
   "display_name": "Python 3 (ipykernel)",
   "language": "python",
   "name": "python3"
  },
  "language_info": {
   "codemirror_mode": {
    "name": "ipython",
    "version": 3
   },
   "file_extension": ".py",
   "mimetype": "text/x-python",
   "name": "python",
   "nbconvert_exporter": "python",
   "pygments_lexer": "ipython3",
   "version": "3.12.3"
  }
 },
 "nbformat": 4,
 "nbformat_minor": 5
}
