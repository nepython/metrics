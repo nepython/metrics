{
 "cells": [
  {
   "cell_type": "code",
   "execution_count": 33,
   "metadata": {},
   "outputs": [],
   "source": [
    "import pycountry\n",
    "import pandas as pd\n",
    "import requests\n",
    "import xmltodict\n",
    "\n",
    "# Read the Stanford 2% ranking excel file\n",
    "df = pd.read_excel('Table_1_Authors_career_2022_pubs_since_1788_wopp_extracted_202310.xlsx', sheet_name='Data', engine='openpyxl')\n",
    "# We are only considering the Computer Science subject for this study\n",
    "df = df.loc[df['sm-field'] == 'Information & Communication Technologies']\n",
    "# A mapping between Stanford's top 2% ranking `sm-field` and Scopus API `SUBJECTAREA`\n",
    "subject_areas_mapping = {\n",
    "    'Information & Communication Technologies': ['COMP', 'MULT']\n",
    "}\n",
    "\n",
    "# Set up your Scopus API key\n",
    "api_key = '5aa908d24ec7e71ef0cf68cb3bff134d'\n",
    "\n",
    "# Define the Scopus API endpoint for author search\n",
    "scopus_search_url = 'https://api.elsevier.com/content/search/author'\n",
    "\n",
    "# Define the Scopus API endpoint for retrieving author's publications\n",
    "scopus_search_publications_url = 'https://api.elsevier.com/content/search/scopus'\n",
    "\n",
    "# Define the Scopus Abstract Retrieval API to get detailed information about the publication\n",
    "scopus_abstract_url = f'https://api.elsevier.com/content/abstract/eid'\n",
    "\n",
    "# Set up headers with your API key\n",
    "headers = {\n",
    "    'X-ELS-APIKey': api_key,\n",
    "}\n",
    "\n",
    "# Utility methods\n",
    "def get_author_names(author_full_name):\n",
    "    # Split the full name into first and last names\n",
    "    names = author_full_name.split(', ', 1)\n",
    "    first_name = names[-1]\n",
    "    last_name = names[0] if len(names)==2 else ''\n",
    "    return first_name, last_name\n",
    "\n",
    "def get_country_name(country_code):\n",
    "    try:\n",
    "        country_name = pycountry.countries.get(alpha_3=country_code).name\n",
    "        return country_name\n",
    "    except AttributeError:\n",
    "        # Handle cases where the country code is not found\n",
    "        return ''"
   ]
  },
  {
   "cell_type": "code",
   "execution_count": 110,
   "metadata": {},
   "outputs": [],
   "source": [
    "# Function to search for an author in Scopus using name, affiliation, country, and field\n",
    "def search_author(author_name, affiliation, country_code, field):\n",
    "    first_name, last_name = get_author_names(author_name)\n",
    "    subject_areas = subject_areas_mapping.get(field, [])\n",
    "    country_name = get_country_name(country_code)\n",
    "\n",
    "    query = f'AUTHLASTNAME({last_name}) AND AUTHFIRST({first_name}) AND {\" OR \".join(map(lambda s: f\"SUBJAREA({s})\", subject_areas))}'\n",
    "    response = requests.get(scopus_search_url, params={'query': query, 'count': 200}, headers=headers)\n",
    "\n",
    "    if response.status_code == 200:\n",
    "        results = response.json().get('search-results', {}).get('entry', [])\n",
    "        results.sort(key=lambda x: x.get('document-count', 0), reverse=True)\n",
    "        results.sort(key=lambda x: x.get('affiliation-current', {}).get('affiliation-country', '') == country_name, reverse=True)\n",
    "        results.sort(key=lambda x: x.get('affiliation-current', {}).get('affiliation-name', '') == affiliation, reverse=True)\n",
    "        return results[0] if results else None\n",
    "    else:\n",
    "        return None"
   ]
  },
  {
   "cell_type": "code",
   "execution_count": 111,
   "metadata": {},
   "outputs": [
    {
     "ename": "SyntaxError",
     "evalue": "invalid syntax (<ipython-input-111-33bb013a0e80>, line 23)",
     "output_type": "error",
     "traceback": [
      "\u001b[0;36m  File \u001b[0;32m\"<ipython-input-111-33bb013a0e80>\"\u001b[0;36m, line \u001b[0;32m23\u001b[0m\n\u001b[0;31m    else\u001b[0m\n\u001b[0m        ^\u001b[0m\n\u001b[0;31mSyntaxError\u001b[0m\u001b[0;31m:\u001b[0m invalid syntax\n"
     ]
    }
   ],
   "source": [
    "# Function to fetch all publications for an author using Scopus Author ID\n",
    "def fetch_author_publications(author_id, publications=list(), start_index=0):\n",
    "    query = f'AU-ID({author_id})'\n",
    "    response = requests.get(scopus_search_publications_url, params={'query': query, 'start': start_index, 'count': 200}, headers=headers)\n",
    "\n",
    "    if response.status_code == 200:\n",
    "        search_results = response.json().get('search-results', {}).get('entry', [])\n",
    "\n",
    "        for entry in search_results:\n",
    "\n",
    "            # Retrieve co-author details if any citations for the publication else default to empty list because costly operation\n",
    "            if entry.get('citedby-count', 0) > 0:\n",
    "                abstract_url = f'{scopus_abstract_url}/{entry.get(\"eid\", \"\")}'\n",
    "                response_abstract = requests.get(abstract_url, headers=headers)\n",
    "                if response_abstract.status_code == 200:\n",
    "                    author_data = xmltodict.parse(response_abstract.text).get('abstracts-retrieval-response', {}).get('authors', []).get('author', [])\n",
    "                    if not isinstance(author_data, list): # If only one author\n",
    "                        author_data = [author_data]\n",
    "                    authors = map(lambda a: {\n",
    "                            'scopus_id': a['@auid'],\n",
    "                            'name': a.get('ce:indexed-name', ''),\n",
    "                        }, author_data)\n",
    "                else\n",
    "                    authors = []\n",
    "\n",
    "            publication_data = {\n",
    "                'title': entry.get('dc:title', ''),\n",
    "                'eid': entry.get('eid', ''),\n",
    "                'citations': entry.get('citedby-count', 0),\n",
    "                'authors': list(authors),\n",
    "                'publication_name': entry.get('prism:publicationName', ''),\n",
    "                'issn': entry.get('prism:issn', ''),\n",
    "                'cover_date': entry.get('prism:coverDate', ''),\n",
    "                'venue': entry.get('prism:aggregationType', ''),\n",
    "                'volume': entry.get('prism:volume', ''),\n",
    "                'issue': entry.get('prism:issueIdentifier', ''),\n",
    "                'page_range': entry.get('prism:pageRange', ''),\n",
    "                'doi': entry.get('prism:doi', ''),\n",
    "            }\n",
    "            publications.append(publication_data)\n",
    "\n",
    "        # Fetch the next set of publications if available\n",
    "        start_index += len(search_results)\n",
    "        if start_index < int(response.json().get('search-results', {}).get('opensearch:totalResults', 0)):\n",
    "            return fetch_author_publications(author_id, publications, start_index)\n",
    "\n",
    "    return publications"
   ]
  },
  {
   "cell_type": "code",
   "execution_count": 112,
   "metadata": {},
   "outputs": [
    {
     "name": "stdout",
     "output_type": "stream",
     "text": [
      "Zadeh, Lotfi A.\n",
      "Hinton, Geoffrey\n",
      "Jain, Anil\n",
      "Bengio, Yoshua\n",
      "Donoho, David\n",
      "Yager, Ronald R.\n",
      "Xu, Zeshui\n",
      "van der Aalst, Wil M.P.\n",
      "Deb, Kalyanmoy\n",
      "Lowe, David G.\n"
     ]
    }
   ],
   "source": [
    "scopus_results = []\n",
    "\n",
    "# Iterate through the rows of the DataFrame\n",
    "for index, row in df.iterrows():\n",
    "\n",
    "    author_name = row['authfull']\n",
    "    affiliation = row['inst_name']\n",
    "    country_code = row['cntry']\n",
    "    field = row['sm-field']\n",
    "    print(author_name)\n",
    "\n",
    "    # Search for the author in Scopus\n",
    "    author_search_result = search_author(author_name, affiliation, country_code, field)\n",
    "\n",
    "    # Process the search result as needed\n",
    "    if author_search_result is not None:\n",
    "        author_id = author_search_result.get('dc:identifier', '').split(':')[-1]\n",
    "        author_publications = fetch_author_publications(author_id)\n",
    "        scopus_results.append([author_id, author_publications])\n",
    "        if len(scopus_results) == 10:\n",
    "            break\n",
    "    else:\n",
    "        print(f\"Author not found for: {author_name}, Affiliation: {affiliation}, Country: {country_code}, Field: {field}\")\n",
    "\n",
    "# Find the remaining usage-limit for Scopus API\n",
    "\n"
   ]
  },
  {
   "cell_type": "code",
   "execution_count": 114,
   "metadata": {},
   "outputs": [],
   "source": [
    "import json\n",
    "with open('top_10_CS_researcher_all_publications.json', 'w') as fp:\n",
    "    json.dump(scopus_results, fp)"
   ]
  },
  {
   "cell_type": "code",
   "execution_count": 51,
   "metadata": {},
   "outputs": [
    {
     "data": {
      "text/plain": [
       "odict_keys(['@xmlns', '@xmlns:dn', '@xmlns:ait', '@xmlns:ce', '@xmlns:cto', '@xmlns:dc', '@xmlns:prism', '@xmlns:xocs', '@xmlns:xsi', 'coredata', 'affiliation', 'authors', 'language', 'authkeywords', 'idxterms', 'subject-areas', 'item'])"
      ]
     },
     "execution_count": 51,
     "metadata": {},
     "output_type": "execute_result"
    }
   ],
   "source": [
    "results['abstracts-retrieval-response'].keys()"
   ]
  },
  {
   "cell_type": "code",
   "execution_count": 93,
   "metadata": {},
   "outputs": [
    {
     "data": {
      "text/plain": [
       "[]"
      ]
     },
     "execution_count": 93,
     "metadata": {},
     "output_type": "execute_result"
    }
   ],
   "source": [
    "list(filter(lambda a: len(a['cover_date'])==0, author_publications))"
   ]
  },
  {
   "cell_type": "code",
   "execution_count": 107,
   "metadata": {},
   "outputs": [
    {
     "data": {
      "text/plain": [
       "'2015-09-29'"
      ]
     },
     "execution_count": 107,
     "metadata": {},
     "output_type": "execute_result"
    }
   ],
   "source": [
    "author_publications[12]['cover_date']"
   ]
  },
  {
   "cell_type": "code",
   "execution_count": 109,
   "metadata": {},
   "outputs": [
    {
     "data": {
      "text/plain": [
       "{'Date': 'Thu, 29 Feb 2024 01:11:56 GMT', 'Content-Type': 'text/xml;charset=UTF-8', 'Transfer-Encoding': 'chunked', 'Connection': 'keep-alive', 'allow': 'GET', 'Last-Modified': 'Wed, 19 Jul 2023 00:10:32 GMT', 'Vary': 'Origin, Access-Control-Request-Method, Access-Control-Request-Headers', 'X-ELS-APIKey': '5aa908d24ec7e71ef0cf68cb3bff134d', 'X-ELS-ReqId': 'edb3abc705c904c2', 'X-ELS-ResourceVersion': 'default', 'X-ELS-Status': 'OK', 'X-ELS-TransId': 'f259c738dd4bf0a4', 'X-RateLimit-Limit': '10000', 'X-RateLimit-Remaining': '9998', 'X-RateLimit-Reset': '1709773397', 'CF-Cache-Status': 'DYNAMIC', 'Set-Cookie': '__cf_bm=tfVpJDznnW0bx9ONbHGtRBQbwQJxLyxfIyVo843r5VI-1709169116-1.0-ARizi1689CHw5s0iMq1FctvEoZWdMqWh5vrDljoRxm06Nm3LSX8uqB9g7X+UF2sdZ0ol7JWvXzUL5rIjMpmiZ8I=; path=/; expires=Thu, 29-Feb-24 01:41:56 GMT; domain=.elsevier.com; HttpOnly; Secure; SameSite=None', 'Server': 'cloudflare', 'CF-RAY': '85cd09417e1d1f60-MEL', 'Content-Encoding': 'gzip'}"
      ]
     },
     "execution_count": 109,
     "metadata": {},
     "output_type": "execute_result"
    }
   ],
   "source": [
    "response_abstract.headers"
   ]
  },
  {
   "cell_type": "code",
   "execution_count": null,
   "metadata": {},
   "outputs": [],
   "source": []
  }
 ],
 "metadata": {
  "kernelspec": {
   "display_name": "Python 3",
   "language": "python",
   "name": "python3"
  },
  "language_info": {
   "codemirror_mode": {
    "name": "ipython",
    "version": 3
   },
   "file_extension": ".py",
   "mimetype": "text/x-python",
   "name": "python",
   "nbconvert_exporter": "python",
   "pygments_lexer": "ipython3",
   "version": "3.6.9"
  }
 },
 "nbformat": 4,
 "nbformat_minor": 2
}
